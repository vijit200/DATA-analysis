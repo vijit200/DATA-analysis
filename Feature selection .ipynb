{
 "cells": [
  {
   "cell_type": "markdown",
   "metadata": {},
   "source": [
    "# Feature selection"
   ]
  },
  {
   "cell_type": "code",
   "execution_count": 1,
   "metadata": {},
   "outputs": [],
   "source": [
    "import pandas as pd"
   ]
  },
  {
   "cell_type": "code",
   "execution_count": 2,
   "metadata": {},
   "outputs": [],
   "source": [
    "df=pd.read_csv('x_train.csv')"
   ]
  },
  {
   "cell_type": "code",
   "execution_count": 3,
   "metadata": {},
   "outputs": [
    {
     "data": {
      "text/html": [
       "<div>\n",
       "<style scoped>\n",
       "    .dataframe tbody tr th:only-of-type {\n",
       "        vertical-align: middle;\n",
       "    }\n",
       "\n",
       "    .dataframe tbody tr th {\n",
       "        vertical-align: top;\n",
       "    }\n",
       "\n",
       "    .dataframe thead th {\n",
       "        text-align: right;\n",
       "    }\n",
       "</style>\n",
       "<table border=\"1\" class=\"dataframe\">\n",
       "  <thead>\n",
       "    <tr style=\"text-align: right;\">\n",
       "      <th></th>\n",
       "      <th>SalePrice</th>\n",
       "      <th>MSSubClass</th>\n",
       "      <th>MSZoning</th>\n",
       "      <th>LotFrontage</th>\n",
       "      <th>LotArea</th>\n",
       "      <th>Street</th>\n",
       "      <th>Alley</th>\n",
       "      <th>LotShape</th>\n",
       "      <th>LandContour</th>\n",
       "      <th>Utilities</th>\n",
       "      <th>...</th>\n",
       "      <th>ScreenPorch</th>\n",
       "      <th>PoolArea</th>\n",
       "      <th>PoolQC</th>\n",
       "      <th>Fence</th>\n",
       "      <th>MiscFeature</th>\n",
       "      <th>MiscVal</th>\n",
       "      <th>MoSold</th>\n",
       "      <th>YrSold</th>\n",
       "      <th>SaleType</th>\n",
       "      <th>SaleCondition</th>\n",
       "    </tr>\n",
       "  </thead>\n",
       "  <tbody>\n",
       "    <tr>\n",
       "      <th>0</th>\n",
       "      <td>12.247694</td>\n",
       "      <td>0.235294</td>\n",
       "      <td>0.75</td>\n",
       "      <td>0.418208</td>\n",
       "      <td>0.366344</td>\n",
       "      <td>1.0</td>\n",
       "      <td>1.0</td>\n",
       "      <td>0.000000</td>\n",
       "      <td>0.333333</td>\n",
       "      <td>1.0</td>\n",
       "      <td>...</td>\n",
       "      <td>0.0</td>\n",
       "      <td>0.0</td>\n",
       "      <td>0.0</td>\n",
       "      <td>1.0</td>\n",
       "      <td>1.0</td>\n",
       "      <td>0.0</td>\n",
       "      <td>0.090909</td>\n",
       "      <td>0.50</td>\n",
       "      <td>0.666667</td>\n",
       "      <td>0.75</td>\n",
       "    </tr>\n",
       "    <tr>\n",
       "      <th>1</th>\n",
       "      <td>12.109011</td>\n",
       "      <td>0.000000</td>\n",
       "      <td>0.75</td>\n",
       "      <td>0.495064</td>\n",
       "      <td>0.391317</td>\n",
       "      <td>1.0</td>\n",
       "      <td>1.0</td>\n",
       "      <td>0.000000</td>\n",
       "      <td>0.333333</td>\n",
       "      <td>1.0</td>\n",
       "      <td>...</td>\n",
       "      <td>0.0</td>\n",
       "      <td>0.0</td>\n",
       "      <td>0.0</td>\n",
       "      <td>1.0</td>\n",
       "      <td>1.0</td>\n",
       "      <td>0.0</td>\n",
       "      <td>0.363636</td>\n",
       "      <td>0.25</td>\n",
       "      <td>0.666667</td>\n",
       "      <td>0.75</td>\n",
       "    </tr>\n",
       "    <tr>\n",
       "      <th>2</th>\n",
       "      <td>12.317167</td>\n",
       "      <td>0.235294</td>\n",
       "      <td>0.75</td>\n",
       "      <td>0.434909</td>\n",
       "      <td>0.422359</td>\n",
       "      <td>1.0</td>\n",
       "      <td>1.0</td>\n",
       "      <td>0.333333</td>\n",
       "      <td>0.333333</td>\n",
       "      <td>1.0</td>\n",
       "      <td>...</td>\n",
       "      <td>0.0</td>\n",
       "      <td>0.0</td>\n",
       "      <td>0.0</td>\n",
       "      <td>1.0</td>\n",
       "      <td>1.0</td>\n",
       "      <td>0.0</td>\n",
       "      <td>0.727273</td>\n",
       "      <td>0.50</td>\n",
       "      <td>0.666667</td>\n",
       "      <td>0.75</td>\n",
       "    </tr>\n",
       "    <tr>\n",
       "      <th>3</th>\n",
       "      <td>11.849398</td>\n",
       "      <td>0.294118</td>\n",
       "      <td>0.75</td>\n",
       "      <td>0.388581</td>\n",
       "      <td>0.390295</td>\n",
       "      <td>1.0</td>\n",
       "      <td>1.0</td>\n",
       "      <td>0.333333</td>\n",
       "      <td>0.333333</td>\n",
       "      <td>1.0</td>\n",
       "      <td>...</td>\n",
       "      <td>0.0</td>\n",
       "      <td>0.0</td>\n",
       "      <td>0.0</td>\n",
       "      <td>1.0</td>\n",
       "      <td>1.0</td>\n",
       "      <td>0.0</td>\n",
       "      <td>0.090909</td>\n",
       "      <td>0.00</td>\n",
       "      <td>0.666667</td>\n",
       "      <td>0.00</td>\n",
       "    </tr>\n",
       "    <tr>\n",
       "      <th>4</th>\n",
       "      <td>12.429216</td>\n",
       "      <td>0.235294</td>\n",
       "      <td>0.75</td>\n",
       "      <td>0.513123</td>\n",
       "      <td>0.468761</td>\n",
       "      <td>1.0</td>\n",
       "      <td>1.0</td>\n",
       "      <td>0.333333</td>\n",
       "      <td>0.333333</td>\n",
       "      <td>1.0</td>\n",
       "      <td>...</td>\n",
       "      <td>0.0</td>\n",
       "      <td>0.0</td>\n",
       "      <td>0.0</td>\n",
       "      <td>1.0</td>\n",
       "      <td>1.0</td>\n",
       "      <td>0.0</td>\n",
       "      <td>1.000000</td>\n",
       "      <td>0.50</td>\n",
       "      <td>0.666667</td>\n",
       "      <td>0.75</td>\n",
       "    </tr>\n",
       "  </tbody>\n",
       "</table>\n",
       "<p>5 rows × 80 columns</p>\n",
       "</div>"
      ],
      "text/plain": [
       "   SalePrice  MSSubClass  MSZoning  LotFrontage   LotArea  Street  Alley  \\\n",
       "0  12.247694    0.235294      0.75     0.418208  0.366344     1.0    1.0   \n",
       "1  12.109011    0.000000      0.75     0.495064  0.391317     1.0    1.0   \n",
       "2  12.317167    0.235294      0.75     0.434909  0.422359     1.0    1.0   \n",
       "3  11.849398    0.294118      0.75     0.388581  0.390295     1.0    1.0   \n",
       "4  12.429216    0.235294      0.75     0.513123  0.468761     1.0    1.0   \n",
       "\n",
       "   LotShape  LandContour  Utilities  ...  ScreenPorch  PoolArea  PoolQC  \\\n",
       "0  0.000000     0.333333        1.0  ...          0.0       0.0     0.0   \n",
       "1  0.000000     0.333333        1.0  ...          0.0       0.0     0.0   \n",
       "2  0.333333     0.333333        1.0  ...          0.0       0.0     0.0   \n",
       "3  0.333333     0.333333        1.0  ...          0.0       0.0     0.0   \n",
       "4  0.333333     0.333333        1.0  ...          0.0       0.0     0.0   \n",
       "\n",
       "   Fence  MiscFeature  MiscVal    MoSold  YrSold  SaleType  SaleCondition  \n",
       "0    1.0          1.0      0.0  0.090909    0.50  0.666667           0.75  \n",
       "1    1.0          1.0      0.0  0.363636    0.25  0.666667           0.75  \n",
       "2    1.0          1.0      0.0  0.727273    0.50  0.666667           0.75  \n",
       "3    1.0          1.0      0.0  0.090909    0.00  0.666667           0.00  \n",
       "4    1.0          1.0      0.0  1.000000    0.50  0.666667           0.75  \n",
       "\n",
       "[5 rows x 80 columns]"
      ]
     },
     "execution_count": 3,
     "metadata": {},
     "output_type": "execute_result"
    }
   ],
   "source": [
    "df.head()"
   ]
  },
  {
   "cell_type": "code",
   "execution_count": 4,
   "metadata": {},
   "outputs": [
    {
     "data": {
      "text/plain": [
       "0       12.247694\n",
       "1       12.109011\n",
       "2       12.317167\n",
       "3       11.849398\n",
       "4       12.429216\n",
       "          ...    \n",
       "1455    12.072541\n",
       "1456    12.254863\n",
       "1457    12.493130\n",
       "1458    11.864462\n",
       "1459    11.901583\n",
       "Name: SalePrice, Length: 1460, dtype: float64"
      ]
     },
     "execution_count": 4,
     "metadata": {},
     "output_type": "execute_result"
    }
   ],
   "source": [
    "df['SalePrice']"
   ]
  },
  {
   "cell_type": "code",
   "execution_count": 5,
   "metadata": {},
   "outputs": [],
   "source": [
    "x=df.drop('SalePrice',axis=1)"
   ]
  },
  {
   "cell_type": "code",
   "execution_count": 6,
   "metadata": {},
   "outputs": [],
   "source": [
    "y=df['SalePrice']"
   ]
  },
  {
   "cell_type": "code",
   "execution_count": 7,
   "metadata": {},
   "outputs": [
    {
     "data": {
      "text/html": [
       "<div>\n",
       "<style scoped>\n",
       "    .dataframe tbody tr th:only-of-type {\n",
       "        vertical-align: middle;\n",
       "    }\n",
       "\n",
       "    .dataframe tbody tr th {\n",
       "        vertical-align: top;\n",
       "    }\n",
       "\n",
       "    .dataframe thead th {\n",
       "        text-align: right;\n",
       "    }\n",
       "</style>\n",
       "<table border=\"1\" class=\"dataframe\">\n",
       "  <thead>\n",
       "    <tr style=\"text-align: right;\">\n",
       "      <th></th>\n",
       "      <th>MSSubClass</th>\n",
       "      <th>MSZoning</th>\n",
       "      <th>LotFrontage</th>\n",
       "      <th>LotArea</th>\n",
       "      <th>Street</th>\n",
       "      <th>Alley</th>\n",
       "      <th>LotShape</th>\n",
       "      <th>LandContour</th>\n",
       "      <th>Utilities</th>\n",
       "      <th>LotConfig</th>\n",
       "      <th>...</th>\n",
       "      <th>ScreenPorch</th>\n",
       "      <th>PoolArea</th>\n",
       "      <th>PoolQC</th>\n",
       "      <th>Fence</th>\n",
       "      <th>MiscFeature</th>\n",
       "      <th>MiscVal</th>\n",
       "      <th>MoSold</th>\n",
       "      <th>YrSold</th>\n",
       "      <th>SaleType</th>\n",
       "      <th>SaleCondition</th>\n",
       "    </tr>\n",
       "  </thead>\n",
       "  <tbody>\n",
       "    <tr>\n",
       "      <th>0</th>\n",
       "      <td>0.235294</td>\n",
       "      <td>0.75</td>\n",
       "      <td>0.418208</td>\n",
       "      <td>0.366344</td>\n",
       "      <td>1.0</td>\n",
       "      <td>1.0</td>\n",
       "      <td>0.000000</td>\n",
       "      <td>0.333333</td>\n",
       "      <td>1.0</td>\n",
       "      <td>0.00</td>\n",
       "      <td>...</td>\n",
       "      <td>0.0</td>\n",
       "      <td>0.0</td>\n",
       "      <td>0.0</td>\n",
       "      <td>1.0</td>\n",
       "      <td>1.0</td>\n",
       "      <td>0.0</td>\n",
       "      <td>0.090909</td>\n",
       "      <td>0.50</td>\n",
       "      <td>0.666667</td>\n",
       "      <td>0.75</td>\n",
       "    </tr>\n",
       "    <tr>\n",
       "      <th>1</th>\n",
       "      <td>0.000000</td>\n",
       "      <td>0.75</td>\n",
       "      <td>0.495064</td>\n",
       "      <td>0.391317</td>\n",
       "      <td>1.0</td>\n",
       "      <td>1.0</td>\n",
       "      <td>0.000000</td>\n",
       "      <td>0.333333</td>\n",
       "      <td>1.0</td>\n",
       "      <td>0.50</td>\n",
       "      <td>...</td>\n",
       "      <td>0.0</td>\n",
       "      <td>0.0</td>\n",
       "      <td>0.0</td>\n",
       "      <td>1.0</td>\n",
       "      <td>1.0</td>\n",
       "      <td>0.0</td>\n",
       "      <td>0.363636</td>\n",
       "      <td>0.25</td>\n",
       "      <td>0.666667</td>\n",
       "      <td>0.75</td>\n",
       "    </tr>\n",
       "    <tr>\n",
       "      <th>2</th>\n",
       "      <td>0.235294</td>\n",
       "      <td>0.75</td>\n",
       "      <td>0.434909</td>\n",
       "      <td>0.422359</td>\n",
       "      <td>1.0</td>\n",
       "      <td>1.0</td>\n",
       "      <td>0.333333</td>\n",
       "      <td>0.333333</td>\n",
       "      <td>1.0</td>\n",
       "      <td>0.00</td>\n",
       "      <td>...</td>\n",
       "      <td>0.0</td>\n",
       "      <td>0.0</td>\n",
       "      <td>0.0</td>\n",
       "      <td>1.0</td>\n",
       "      <td>1.0</td>\n",
       "      <td>0.0</td>\n",
       "      <td>0.727273</td>\n",
       "      <td>0.50</td>\n",
       "      <td>0.666667</td>\n",
       "      <td>0.75</td>\n",
       "    </tr>\n",
       "    <tr>\n",
       "      <th>3</th>\n",
       "      <td>0.294118</td>\n",
       "      <td>0.75</td>\n",
       "      <td>0.388581</td>\n",
       "      <td>0.390295</td>\n",
       "      <td>1.0</td>\n",
       "      <td>1.0</td>\n",
       "      <td>0.333333</td>\n",
       "      <td>0.333333</td>\n",
       "      <td>1.0</td>\n",
       "      <td>0.25</td>\n",
       "      <td>...</td>\n",
       "      <td>0.0</td>\n",
       "      <td>0.0</td>\n",
       "      <td>0.0</td>\n",
       "      <td>1.0</td>\n",
       "      <td>1.0</td>\n",
       "      <td>0.0</td>\n",
       "      <td>0.090909</td>\n",
       "      <td>0.00</td>\n",
       "      <td>0.666667</td>\n",
       "      <td>0.00</td>\n",
       "    </tr>\n",
       "    <tr>\n",
       "      <th>4</th>\n",
       "      <td>0.235294</td>\n",
       "      <td>0.75</td>\n",
       "      <td>0.513123</td>\n",
       "      <td>0.468761</td>\n",
       "      <td>1.0</td>\n",
       "      <td>1.0</td>\n",
       "      <td>0.333333</td>\n",
       "      <td>0.333333</td>\n",
       "      <td>1.0</td>\n",
       "      <td>0.50</td>\n",
       "      <td>...</td>\n",
       "      <td>0.0</td>\n",
       "      <td>0.0</td>\n",
       "      <td>0.0</td>\n",
       "      <td>1.0</td>\n",
       "      <td>1.0</td>\n",
       "      <td>0.0</td>\n",
       "      <td>1.000000</td>\n",
       "      <td>0.50</td>\n",
       "      <td>0.666667</td>\n",
       "      <td>0.75</td>\n",
       "    </tr>\n",
       "  </tbody>\n",
       "</table>\n",
       "<p>5 rows × 79 columns</p>\n",
       "</div>"
      ],
      "text/plain": [
       "   MSSubClass  MSZoning  LotFrontage   LotArea  Street  Alley  LotShape  \\\n",
       "0    0.235294      0.75     0.418208  0.366344     1.0    1.0  0.000000   \n",
       "1    0.000000      0.75     0.495064  0.391317     1.0    1.0  0.000000   \n",
       "2    0.235294      0.75     0.434909  0.422359     1.0    1.0  0.333333   \n",
       "3    0.294118      0.75     0.388581  0.390295     1.0    1.0  0.333333   \n",
       "4    0.235294      0.75     0.513123  0.468761     1.0    1.0  0.333333   \n",
       "\n",
       "   LandContour  Utilities  LotConfig  ...  ScreenPorch  PoolArea  PoolQC  \\\n",
       "0     0.333333        1.0       0.00  ...          0.0       0.0     0.0   \n",
       "1     0.333333        1.0       0.50  ...          0.0       0.0     0.0   \n",
       "2     0.333333        1.0       0.00  ...          0.0       0.0     0.0   \n",
       "3     0.333333        1.0       0.25  ...          0.0       0.0     0.0   \n",
       "4     0.333333        1.0       0.50  ...          0.0       0.0     0.0   \n",
       "\n",
       "   Fence  MiscFeature  MiscVal    MoSold  YrSold  SaleType  SaleCondition  \n",
       "0    1.0          1.0      0.0  0.090909    0.50  0.666667           0.75  \n",
       "1    1.0          1.0      0.0  0.363636    0.25  0.666667           0.75  \n",
       "2    1.0          1.0      0.0  0.727273    0.50  0.666667           0.75  \n",
       "3    1.0          1.0      0.0  0.090909    0.00  0.666667           0.00  \n",
       "4    1.0          1.0      0.0  1.000000    0.50  0.666667           0.75  \n",
       "\n",
       "[5 rows x 79 columns]"
      ]
     },
     "execution_count": 7,
     "metadata": {},
     "output_type": "execute_result"
    }
   ],
   "source": [
    "x.head()"
   ]
  },
  {
   "cell_type": "code",
   "execution_count": 8,
   "metadata": {},
   "outputs": [
    {
     "data": {
      "text/plain": [
       "0    12.247694\n",
       "1    12.109011\n",
       "2    12.317167\n",
       "3    11.849398\n",
       "4    12.429216\n",
       "Name: SalePrice, dtype: float64"
      ]
     },
     "execution_count": 8,
     "metadata": {},
     "output_type": "execute_result"
    }
   ],
   "source": [
    "y.head()"
   ]
  },
  {
   "cell_type": "code",
   "execution_count": 9,
   "metadata": {},
   "outputs": [],
   "source": [
    "from sklearn.model_selection import train_test_split\n",
    "from sklearn.ensemble import ExtraTreesRegressor"
   ]
  },
  {
   "cell_type": "code",
   "execution_count": 10,
   "metadata": {},
   "outputs": [
    {
     "data": {
      "text/plain": [
       "ExtraTreesRegressor()"
      ]
     },
     "execution_count": 10,
     "metadata": {},
     "output_type": "execute_result"
    }
   ],
   "source": [
    "ex=ExtraTreesRegressor()\n",
    "ex.fit(x,y)"
   ]
  },
  {
   "cell_type": "code",
   "execution_count": 11,
   "metadata": {},
   "outputs": [
    {
     "name": "stdout",
     "output_type": "stream",
     "text": [
      "[3.69900059e-03 8.66870999e-03 3.59107588e-03 7.93811071e-03\n",
      " 1.35602757e-04 1.31353280e-03 2.47324730e-03 3.02930555e-03\n",
      " 2.01444372e-05 1.83917837e-03 1.37464821e-03 9.55928056e-02\n",
      " 1.70676051e-03 3.15435095e-04 1.25852835e-03 2.16768713e-03\n",
      " 1.68770587e-01 6.33478813e-03 1.02947238e-02 6.73707890e-03\n",
      " 2.10428745e-03 4.26233196e-04 2.41101410e-03 2.36496136e-03\n",
      " 1.71431012e-03 2.36367586e-03 1.12564786e-01 3.57309158e-03\n",
      " 5.20265128e-03 2.84975910e-02 2.37637898e-03 3.79680729e-03\n",
      " 2.13567363e-03 1.02427736e-02 1.20841869e-03 9.93860658e-04\n",
      " 2.34544112e-03 1.59492649e-02 4.68651816e-04 2.54875554e-03\n",
      " 2.63724257e-02 9.79337421e-04 2.02741261e-02 8.33109936e-03\n",
      " 4.53727066e-04 7.83384406e-02 5.61195052e-03 8.23464244e-04\n",
      " 3.48943385e-02 3.68696742e-03 8.60846191e-03 1.32318376e-03\n",
      " 8.04489296e-02 7.45049253e-03 2.24152654e-03 1.22786488e-02\n",
      " 2.41523984e-02 1.19078871e-02 2.50650630e-03 3.08353338e-02\n",
      " 6.24902208e-02 1.44309086e-02 2.53943918e-03 3.91953552e-03\n",
      " 1.89902378e-03 2.62298909e-03 2.97285069e-03 1.81206830e-03\n",
      " 4.87150239e-04 1.10276334e-03 8.31723921e-05 5.69090090e-05\n",
      " 2.19746598e-03 4.50734537e-04 4.49358254e-04 2.54819298e-03\n",
      " 2.26047787e-03 1.50782740e-03 4.10008630e-03]\n"
     ]
    }
   ],
   "source": [
    "print(ex.feature_importances_)"
   ]
  },
  {
   "cell_type": "code",
   "execution_count": 12,
   "metadata": {},
   "outputs": [
    {
     "data": {
      "image/png": "[encoded data removed]",
      "text/plain": [
       "<Figure size 432x288 with 1 Axes>"
      ]
     },
     "metadata": {
      "needs_background": "light"
     },
     "output_type": "display_data"
    }
   ],
   "source": [
    "import matplotlib.pyplot as plt\n",
    "rk=pd.Series(ex.feature_importances_,index=x.columns)\n",
    "rk.nlargest(20).plot(kind='barh')\n",
    "plt.show()"
   ]
  },
  {
   "cell_type": "code",
   "execution_count": 13,
   "metadata": {},
   "outputs": [],
   "source": [
    "a=rk.nlargest(16)"
   ]
  },
  {
   "cell_type": "code",
   "execution_count": 14,
   "metadata": {},
   "outputs": [
    {
     "data": {
      "text/plain": [
       "OverallQual     0.168771\n",
       "ExterQual       0.112565\n",
       "Neighborhood    0.095593\n",
       "KitchenQual     0.080449\n",
       "GrLivArea       0.078338\n",
       "GarageCars      0.062490\n",
       "FullBath        0.034894\n",
       "GarageFinish    0.030835\n",
       "BsmtQual        0.028498\n",
       "CentralAir      0.026372\n",
       "FireplaceQu     0.024152\n",
       "1stFlrSF        0.020274\n",
       "TotalBsmtSF     0.015949\n",
       "GarageArea      0.014431\n",
       "Fireplaces      0.012279\n",
       "GarageType      0.011908\n",
       "dtype: float64"
      ]
     },
     "execution_count": 14,
     "metadata": {},
     "output_type": "execute_result"
    }
   ],
   "source": [
    "a"
   ]
  },
  {
   "cell_type": "code",
   "execution_count": 15,
   "metadata": {},
   "outputs": [],
   "source": [
    "d=['OverallQual','ExterQual','Neighborhood','GrLivArea','KitchenQual','GarageCars','CentralAir','YearBuilt','1stFlrSF','FireplaceQu','FullBath','TotalBsmtSF','GarageType','GarageArea','MSZoning']"
   ]
  },
  {
   "cell_type": "code",
   "execution_count": 16,
   "metadata": {},
   "outputs": [],
   "source": [
    "x1=x[d]"
   ]
  },
  {
   "cell_type": "code",
   "execution_count": 17,
   "metadata": {},
   "outputs": [
    {
     "data": {
      "text/html": [
       "<div>\n",
       "<style scoped>\n",
       "    .dataframe tbody tr th:only-of-type {\n",
       "        vertical-align: middle;\n",
       "    }\n",
       "\n",
       "    .dataframe tbody tr th {\n",
       "        vertical-align: top;\n",
       "    }\n",
       "\n",
       "    .dataframe thead th {\n",
       "        text-align: right;\n",
       "    }\n",
       "</style>\n",
       "<table border=\"1\" class=\"dataframe\">\n",
       "  <thead>\n",
       "    <tr style=\"text-align: right;\">\n",
       "      <th></th>\n",
       "      <th>OverallQual</th>\n",
       "      <th>ExterQual</th>\n",
       "      <th>Neighborhood</th>\n",
       "      <th>GrLivArea</th>\n",
       "      <th>KitchenQual</th>\n",
       "      <th>GarageCars</th>\n",
       "      <th>CentralAir</th>\n",
       "      <th>YearBuilt</th>\n",
       "      <th>1stFlrSF</th>\n",
       "      <th>FireplaceQu</th>\n",
       "      <th>FullBath</th>\n",
       "      <th>TotalBsmtSF</th>\n",
       "      <th>GarageType</th>\n",
       "      <th>GarageArea</th>\n",
       "      <th>MSZoning</th>\n",
       "    </tr>\n",
       "  </thead>\n",
       "  <tbody>\n",
       "    <tr>\n",
       "      <th>0</th>\n",
       "      <td>0.666667</td>\n",
       "      <td>0.666667</td>\n",
       "      <td>0.636364</td>\n",
       "      <td>0.577712</td>\n",
       "      <td>0.666667</td>\n",
       "      <td>0.50</td>\n",
       "      <td>1.0</td>\n",
       "      <td>0.036765</td>\n",
       "      <td>0.356155</td>\n",
       "      <td>0.2</td>\n",
       "      <td>0.666667</td>\n",
       "      <td>0.140098</td>\n",
       "      <td>0.8</td>\n",
       "      <td>0.386460</td>\n",
       "      <td>0.75</td>\n",
       "    </tr>\n",
       "    <tr>\n",
       "      <th>1</th>\n",
       "      <td>0.555556</td>\n",
       "      <td>0.333333</td>\n",
       "      <td>0.500000</td>\n",
       "      <td>0.470245</td>\n",
       "      <td>0.333333</td>\n",
       "      <td>0.50</td>\n",
       "      <td>1.0</td>\n",
       "      <td>0.227941</td>\n",
       "      <td>0.503056</td>\n",
       "      <td>0.6</td>\n",
       "      <td>0.666667</td>\n",
       "      <td>0.206547</td>\n",
       "      <td>0.8</td>\n",
       "      <td>0.324401</td>\n",
       "      <td>0.75</td>\n",
       "    </tr>\n",
       "    <tr>\n",
       "      <th>2</th>\n",
       "      <td>0.666667</td>\n",
       "      <td>0.666667</td>\n",
       "      <td>0.636364</td>\n",
       "      <td>0.593095</td>\n",
       "      <td>0.666667</td>\n",
       "      <td>0.50</td>\n",
       "      <td>1.0</td>\n",
       "      <td>0.051471</td>\n",
       "      <td>0.383441</td>\n",
       "      <td>0.6</td>\n",
       "      <td>0.666667</td>\n",
       "      <td>0.150573</td>\n",
       "      <td>0.8</td>\n",
       "      <td>0.428773</td>\n",
       "      <td>0.75</td>\n",
       "    </tr>\n",
       "    <tr>\n",
       "      <th>3</th>\n",
       "      <td>0.666667</td>\n",
       "      <td>0.333333</td>\n",
       "      <td>0.727273</td>\n",
       "      <td>0.579157</td>\n",
       "      <td>0.666667</td>\n",
       "      <td>0.75</td>\n",
       "      <td>1.0</td>\n",
       "      <td>0.669118</td>\n",
       "      <td>0.399941</td>\n",
       "      <td>0.8</td>\n",
       "      <td>0.333333</td>\n",
       "      <td>0.123732</td>\n",
       "      <td>0.4</td>\n",
       "      <td>0.452750</td>\n",
       "      <td>0.75</td>\n",
       "    </tr>\n",
       "    <tr>\n",
       "      <th>4</th>\n",
       "      <td>0.777778</td>\n",
       "      <td>0.666667</td>\n",
       "      <td>1.000000</td>\n",
       "      <td>0.666523</td>\n",
       "      <td>0.666667</td>\n",
       "      <td>0.75</td>\n",
       "      <td>1.0</td>\n",
       "      <td>0.058824</td>\n",
       "      <td>0.466237</td>\n",
       "      <td>0.6</td>\n",
       "      <td>0.666667</td>\n",
       "      <td>0.187398</td>\n",
       "      <td>0.8</td>\n",
       "      <td>0.589563</td>\n",
       "      <td>0.75</td>\n",
       "    </tr>\n",
       "  </tbody>\n",
       "</table>\n",
       "</div>"
      ],
      "text/plain": [
       "   OverallQual  ExterQual  Neighborhood  GrLivArea  KitchenQual  GarageCars  \\\n",
       "0     0.666667   0.666667      0.636364   0.577712     0.666667        0.50   \n",
       "1     0.555556   0.333333      0.500000   0.470245     0.333333        0.50   \n",
       "2     0.666667   0.666667      0.636364   0.593095     0.666667        0.50   \n",
       "3     0.666667   0.333333      0.727273   0.579157     0.666667        0.75   \n",
       "4     0.777778   0.666667      1.000000   0.666523     0.666667        0.75   \n",
       "\n",
       "   CentralAir  YearBuilt  1stFlrSF  FireplaceQu  FullBath  TotalBsmtSF  \\\n",
       "0         1.0   0.036765  0.356155          0.2  0.666667     0.140098   \n",
       "1         1.0   0.227941  0.503056          0.6  0.666667     0.206547   \n",
       "2         1.0   0.051471  0.383441          0.6  0.666667     0.150573   \n",
       "3         1.0   0.669118  0.399941          0.8  0.333333     0.123732   \n",
       "4         1.0   0.058824  0.466237          0.6  0.666667     0.187398   \n",
       "\n",
       "   GarageType  GarageArea  MSZoning  \n",
       "0         0.8    0.386460      0.75  \n",
       "1         0.8    0.324401      0.75  \n",
       "2         0.8    0.428773      0.75  \n",
       "3         0.4    0.452750      0.75  \n",
       "4         0.8    0.589563      0.75  "
      ]
     },
     "execution_count": 17,
     "metadata": {},
     "output_type": "execute_result"
    }
   ],
   "source": [
    "x1.head()"
   ]
  },
  {
   "cell_type": "code",
   "execution_count": 18,
   "metadata": {},
   "outputs": [
    {
     "data": {
      "text/plain": [
       "<matplotlib.axes._subplots.AxesSubplot at 0x209c0fdf610>"
      ]
     },
     "execution_count": 18,
     "metadata": {},
     "output_type": "execute_result"
    },
    {
     "data": {
      "image/png": "[encoded data removed]",
      "text/plain": [
       "<Figure size 432x288 with 2 Axes>"
      ]
     },
     "metadata": {
      "needs_background": "light"
     },
     "output_type": "display_data"
    }
   ],
   "source": [
    "import seaborn as sns\n",
    "sns.heatmap(x1.corr(),annot=True)"
   ]
  },
  {
   "cell_type": "code",
   "execution_count": 19,
   "metadata": {},
   "outputs": [
    {
     "data": {
      "text/plain": [
       "{'GarageArea'}"
      ]
     },
     "execution_count": 19,
     "metadata": {},
     "output_type": "execute_result"
    }
   ],
   "source": [
    "threshould=0.8\n",
    "def corr(dataset,threshould):\n",
    "    col_corr=set()\n",
    "    col_matrix=dataset.corr()\n",
    "    for i in range(len(col_matrix.columns)):\n",
    "        for j in range(i):\n",
    "            if abs(col_matrix.iloc[i,j])>threshould:\n",
    "                colname=col_matrix.columns[i]\n",
    "                col_corr.add(colname)\n",
    "    return col_corr\n",
    "corr(x1,threshould)"
   ]
  },
  {
   "cell_type": "code",
   "execution_count": 20,
   "metadata": {},
   "outputs": [
    {
     "name": "stderr",
     "output_type": "stream",
     "text": [
      "C:\\Users\\Lenovo\\anaconda3\\lib\\site-packages\\pandas\\core\\frame.py:3990: SettingWithCopyWarning: \n",
      "A value is trying to be set on a copy of a slice from a DataFrame\n",
      "\n",
      "See the caveats in the documentation: https://pandas.pydata.org/pandas-docs/stable/user_guide/indexing.html#returning-a-view-versus-a-copy\n",
      "  return super().drop(\n"
     ]
    }
   ],
   "source": [
    "x1.drop('GarageCars',axis=1,inplace=True)"
   ]
  },
  {
   "cell_type": "code",
   "execution_count": 21,
   "metadata": {},
   "outputs": [
    {
     "data": {
      "text/html": [
       "<div>\n",
       "<style scoped>\n",
       "    .dataframe tbody tr th:only-of-type {\n",
       "        vertical-align: middle;\n",
       "    }\n",
       "\n",
       "    .dataframe tbody tr th {\n",
       "        vertical-align: top;\n",
       "    }\n",
       "\n",
       "    .dataframe thead th {\n",
       "        text-align: right;\n",
       "    }\n",
       "</style>\n",
       "<table border=\"1\" class=\"dataframe\">\n",
       "  <thead>\n",
       "    <tr style=\"text-align: right;\">\n",
       "      <th></th>\n",
       "      <th>OverallQual</th>\n",
       "      <th>ExterQual</th>\n",
       "      <th>Neighborhood</th>\n",
       "      <th>GrLivArea</th>\n",
       "      <th>KitchenQual</th>\n",
       "      <th>CentralAir</th>\n",
       "      <th>YearBuilt</th>\n",
       "      <th>1stFlrSF</th>\n",
       "      <th>FireplaceQu</th>\n",
       "      <th>FullBath</th>\n",
       "      <th>TotalBsmtSF</th>\n",
       "      <th>GarageType</th>\n",
       "      <th>GarageArea</th>\n",
       "      <th>MSZoning</th>\n",
       "    </tr>\n",
       "  </thead>\n",
       "  <tbody>\n",
       "    <tr>\n",
       "      <th>0</th>\n",
       "      <td>0.666667</td>\n",
       "      <td>0.666667</td>\n",
       "      <td>0.636364</td>\n",
       "      <td>0.577712</td>\n",
       "      <td>0.666667</td>\n",
       "      <td>1.0</td>\n",
       "      <td>0.036765</td>\n",
       "      <td>0.356155</td>\n",
       "      <td>0.2</td>\n",
       "      <td>0.666667</td>\n",
       "      <td>0.140098</td>\n",
       "      <td>0.8</td>\n",
       "      <td>0.386460</td>\n",
       "      <td>0.75</td>\n",
       "    </tr>\n",
       "    <tr>\n",
       "      <th>1</th>\n",
       "      <td>0.555556</td>\n",
       "      <td>0.333333</td>\n",
       "      <td>0.500000</td>\n",
       "      <td>0.470245</td>\n",
       "      <td>0.333333</td>\n",
       "      <td>1.0</td>\n",
       "      <td>0.227941</td>\n",
       "      <td>0.503056</td>\n",
       "      <td>0.6</td>\n",
       "      <td>0.666667</td>\n",
       "      <td>0.206547</td>\n",
       "      <td>0.8</td>\n",
       "      <td>0.324401</td>\n",
       "      <td>0.75</td>\n",
       "    </tr>\n",
       "    <tr>\n",
       "      <th>2</th>\n",
       "      <td>0.666667</td>\n",
       "      <td>0.666667</td>\n",
       "      <td>0.636364</td>\n",
       "      <td>0.593095</td>\n",
       "      <td>0.666667</td>\n",
       "      <td>1.0</td>\n",
       "      <td>0.051471</td>\n",
       "      <td>0.383441</td>\n",
       "      <td>0.6</td>\n",
       "      <td>0.666667</td>\n",
       "      <td>0.150573</td>\n",
       "      <td>0.8</td>\n",
       "      <td>0.428773</td>\n",
       "      <td>0.75</td>\n",
       "    </tr>\n",
       "    <tr>\n",
       "      <th>3</th>\n",
       "      <td>0.666667</td>\n",
       "      <td>0.333333</td>\n",
       "      <td>0.727273</td>\n",
       "      <td>0.579157</td>\n",
       "      <td>0.666667</td>\n",
       "      <td>1.0</td>\n",
       "      <td>0.669118</td>\n",
       "      <td>0.399941</td>\n",
       "      <td>0.8</td>\n",
       "      <td>0.333333</td>\n",
       "      <td>0.123732</td>\n",
       "      <td>0.4</td>\n",
       "      <td>0.452750</td>\n",
       "      <td>0.75</td>\n",
       "    </tr>\n",
       "    <tr>\n",
       "      <th>4</th>\n",
       "      <td>0.777778</td>\n",
       "      <td>0.666667</td>\n",
       "      <td>1.000000</td>\n",
       "      <td>0.666523</td>\n",
       "      <td>0.666667</td>\n",
       "      <td>1.0</td>\n",
       "      <td>0.058824</td>\n",
       "      <td>0.466237</td>\n",
       "      <td>0.6</td>\n",
       "      <td>0.666667</td>\n",
       "      <td>0.187398</td>\n",
       "      <td>0.8</td>\n",
       "      <td>0.589563</td>\n",
       "      <td>0.75</td>\n",
       "    </tr>\n",
       "  </tbody>\n",
       "</table>\n",
       "</div>"
      ],
      "text/plain": [
       "   OverallQual  ExterQual  Neighborhood  GrLivArea  KitchenQual  CentralAir  \\\n",
       "0     0.666667   0.666667      0.636364   0.577712     0.666667         1.0   \n",
       "1     0.555556   0.333333      0.500000   0.470245     0.333333         1.0   \n",
       "2     0.666667   0.666667      0.636364   0.593095     0.666667         1.0   \n",
       "3     0.666667   0.333333      0.727273   0.579157     0.666667         1.0   \n",
       "4     0.777778   0.666667      1.000000   0.666523     0.666667         1.0   \n",
       "\n",
       "   YearBuilt  1stFlrSF  FireplaceQu  FullBath  TotalBsmtSF  GarageType  \\\n",
       "0   0.036765  0.356155          0.2  0.666667     0.140098         0.8   \n",
       "1   0.227941  0.503056          0.6  0.666667     0.206547         0.8   \n",
       "2   0.051471  0.383441          0.6  0.666667     0.150573         0.8   \n",
       "3   0.669118  0.399941          0.8  0.333333     0.123732         0.4   \n",
       "4   0.058824  0.466237          0.6  0.666667     0.187398         0.8   \n",
       "\n",
       "   GarageArea  MSZoning  \n",
       "0    0.386460      0.75  \n",
       "1    0.324401      0.75  \n",
       "2    0.428773      0.75  \n",
       "3    0.452750      0.75  \n",
       "4    0.589563      0.75  "
      ]
     },
     "execution_count": 21,
     "metadata": {},
     "output_type": "execute_result"
    }
   ],
   "source": [
    "x1.head()"
   ]
  },
  {
   "cell_type": "markdown",
   "metadata": {},
   "source": [
    "# pipeline"
   ]
  },
  {
   "cell_type": "code",
   "execution_count": 22,
   "metadata": {},
   "outputs": [],
   "source": [
    "from sklearn.pipeline import Pipeline"
   ]
  },
  {
   "cell_type": "code",
   "execution_count": 23,
   "metadata": {},
   "outputs": [],
   "source": [
    "from sklearn.model_selection import GridSearchCV\n",
    "from sklearn.ensemble import RandomForestRegressor\n",
    "from sklearn.tree import DecisionTreeRegressor\n",
    "from sklearn.linear_model import LinearRegression\n",
    "from sklearn.linear_model import LogisticRegression\n",
    "from xgboost import XGBRegressor\n",
    "import numpy as np"
   ]
  },
  {
   "cell_type": "code",
   "execution_count": 26,
   "metadata": {},
   "outputs": [],
   "source": [
    "# creat pipeline\n",
    "pipe=Pipeline([(\"classifier\",RandomForestRegressor())])\n",
    "grid__param=[\n",
    "             {'classifier':[LogisticRegression()],\n",
    "              'classifier__penalty':['l2','l1'],\n",
    "              'classifier__C':[-2,1,3,4]\n",
    "             },\n",
    "             {\"classifier\": [LogisticRegression()],\n",
    "              \"classifier__penalty\": ['l2'],\n",
    "              \"classifier__C\": [-2,1,3,4],\n",
    "              \"classifier__solver\":['newton-cg','saga','sag','liblinear']##This solvers don't allow L1 penalty\n",
    "             },\n",
    "             {'classifier':[LinearRegression()]},\n",
    "             {'classifier':[DecisionTreeRegressor()],\n",
    "              'classifier__max_features':['auto','sqrt'],\n",
    "              'classifier__max_depth':[5,8,15,25,None],\n",
    "              'classifier__max_leaf_nodes':[2,5,10]\n",
    "             }]\n",
    "gridsearch=GridSearchCV(pipe,grid__param,cv=5,n_jobs=-1)\n",
    "best_model=gridsearch.fit(x1,y)\n",
    "              \n",
    "              "
   ]
  },
  {
   "cell_type": "code",
   "execution_count": 27,
   "metadata": {},
   "outputs": [
    {
     "name": "stdout",
     "output_type": "stream",
     "text": [
      "Pipeline(steps=[('classifier', LinearRegression())])\n",
      "The mean accuracy of the model is: 0.8620751954544554\n"
     ]
    }
   ],
   "source": [
    "print(best_model.best_estimator_)\n",
    "print(\"The mean accuracy of the model is:\",best_model.score(x1,y))"
   ]
  },
  {
   "cell_type": "code",
   "execution_count": 24,
   "metadata": {},
   "outputs": [],
   "source": [
    "pipe2=Pipeline([(\"classifier\",RandomForestRegressor())])\n",
    "grid_param=[\n",
    "            {'classifier':[RandomForestRegressor()],\n",
    "            'classifier__n_estimators':[200,100,400],\n",
    "            'classifier__max_features':['auto','log2','sqrt'],\n",
    "            'classifier__max_depth':[5,10,15,25,100,None]\n",
    "            },\n",
    "            {'classifier':[XGBRegressor()],\n",
    "             'classifier__n_estimator':[100,200,400],\n",
    "             'classifier__learning_rate':[0.01,0.2,0.8,0.05],\n",
    "             'classifier__max_features':['auto','log2','sqrt'],\n",
    "             'classifier__max_depth':[5,10,15,25,100,None]}]\n",
    "gridsearch=GridSearchCV(pipe2,grid_param,cv=5,n_jobs=-1)\n",
    "best_model=gridsearch.fit(x1,y)"
   ]
  },
  {
   "cell_type": "code",
   "execution_count": 25,
   "metadata": {},
   "outputs": [
    {
     "name": "stdout",
     "output_type": "stream",
     "text": [
      "Pipeline(steps=[('classifier',\n",
      "                 RandomForestRegressor(max_depth=15, max_features='sqrt',\n",
      "                                       n_estimators=200))])\n",
      "The mean accuracy of the model is: 0.9812805838415968\n"
     ]
    }
   ],
   "source": [
    "print(best_model.best_estimator_)\n",
    "print(\"The mean accuracy of the model is:\",best_model.score(x1,y))"
   ]
  },
  {
   "cell_type": "markdown",
   "metadata": {},
   "source": [
    "# as we see randomforestregressor given me a best accuracy"
   ]
  }
 ],
 "metadata": {
  "kernelspec": {
   "display_name": "Python 3",
   "language": "python",
   "name": "python3"
  },
  "language_info": {
   "codemirror_mode": {
    "name": "ipython",
    "version": 3
   },
   "file_extension": ".py",
   "mimetype": "text/x-python",
   "name": "python",
   "nbconvert_exporter": "python",
   "pygments_lexer": "ipython3",
   "version": "3.8.3"
  }
 },
 "nbformat": 4,
 "nbformat_minor": 4
}
